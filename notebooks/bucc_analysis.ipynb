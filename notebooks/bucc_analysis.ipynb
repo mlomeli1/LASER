{
 "cells": [
  {
   "cell_type": "code",
   "execution_count": null,
   "metadata": {},
   "outputs": [],
   "source": [
    "results_directory=\"/private/home/marialomeli/LASER/tasks/bucc/embed\"\n",
    "# load candidate.tsv files and compute precision and recall to plot the P/R curve\n",
    "# can just run bucc.py with the given file name and collect the output\n",
    "# we don't need to run for all values of k, we can reuse one of the files \n",
    "# with lots of neighbours and select a subset "
   ]
  }
 ],
 "metadata": {
  "language_info": {
   "name": "python"
  },
  "orig_nbformat": 4
 },
 "nbformat": 4,
 "nbformat_minor": 2
}
