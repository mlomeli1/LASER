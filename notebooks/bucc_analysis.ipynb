{
 "cells": [
  {
   "cell_type": "code",
   "execution_count": 36,
   "metadata": {},
   "outputs": [],
   "source": [
    "results_directory=\"/private/home/marialomeli/LASER/tasks/bucc/embed\"\n",
    "# load candidate.tsv files and compute precision and recall to plot the P/R curve\n",
    "# can just run bucc.py with the given file name and collect the output\n",
    "# we don't need to run for all values of k, we can reuse one of the files \n",
    "# with lots of neighbours and select a subset \n",
    "\n",
    "files=[\"sonar.k4.bucc2018.de-en.train.candidates.tsv\",\"sonar.k16.bucc2018.de-en.train.candidates.tsv\",\"sonar.k100.bucc2018.de-en.train.candidates.tsv\",\"sonar.k120.bucc2018.de-en.train.candidates.tsv\"]\n",
    "\n"
   ]
  },
  {
   "cell_type": "code",
   "execution_count": 37,
   "metadata": {},
   "outputs": [
    {
     "name": "stdout",
     "output_type": "stream",
     "text": [
      "LASER: tools for BUCC bitext mining\n",
      " - reading sentences and IDs\n",
      " - reading candidates ./embed/sonar.k4.bucc2018.de-en.train.candidates.tsv\n",
      " - optimizing threshold on gold alignments ./bucc2018/de-en/de-en.training.gold\n",
      " - best threshold=1.352864, precision=93.27, recall=91.12, F1=92.18\n",
      "\n",
      "LASER: tools for BUCC bitext mining\n",
      " - reading sentences and IDs\n",
      " - reading candidates ./embed/sonar.k16.bucc2018.de-en.train.candidates.tsv\n",
      " - optimizing threshold on gold alignments ./bucc2018/de-en/de-en.training.gold\n",
      " - best threshold=1.633303, precision=92.34, recall=90.45, F1=91.38\n",
      "\n",
      "LASER: tools for BUCC bitext mining\n",
      " - reading sentences and IDs\n",
      " - reading candidates ./embed/sonar.k100.bucc2018.de-en.train.candidates.tsv\n",
      " - optimizing threshold on gold alignments ./bucc2018/de-en/de-en.training.gold\n",
      " - best threshold=1.925142, precision=89.61, recall=89.84, F1=89.73\n",
      "\n",
      "LASER: tools for BUCC bitext mining\n",
      " - reading sentences and IDs\n",
      " - reading candidates ./embed/sonar.k120.bucc2018.de-en.train.candidates.tsv\n",
      " - optimizing threshold on gold alignments ./bucc2018/de-en/de-en.training.gold\n",
      " - best threshold=1.949028, precision=89.09, recall=90.00, F1=89.54\n",
      "\n",
      "['1.352864', '1.633303', '1.925142', '1.949028'] ['91.12', '90.45', '89.84', '90.00'] ['93.27', '92.34', '89.61', '89.09'] ['92.18', '91.38', '89.73', '89.54']\n"
     ]
    }
   ],
   "source": [
    "import subprocess\n",
    "import itertools\n",
    "import os\n",
    "os.chdir(\"/private/home/marialomeli/LASER/tasks/bucc\")\n",
    "thresholds = []\n",
    "precisions=[]\n",
    "recalls = []\n",
    "F1 = []\n",
    "for filename in files:\n",
    "    command = ['python', 'bucc.py','--src-lang','de','--trg-lang','en','--bucc-texts','./embed/bucc2018.de-en.train.txt','--bucc-ids','./embed/bucc2018.de-en.train.id','--candidates','./embed/'+filename,'--gold','./bucc2018/de-en/de-en.training.gold','--verbose']\n",
    "    output = subprocess.check_output(command, universal_newlines=True)\n",
    "    print(output)\n",
    "    allbits=output.split('\\n')\n",
    "    helper = [bit.split(',') for bit in allbits[4].split('=')]\n",
    "    all_metrics = list(itertools.chain.from_iterable(helper))\n",
    "    thresholds.append(all_metrics[1])\n",
    "    precisions.append(all_metrics[3])\n",
    "    recalls.append(all_metrics[5])\n",
    "    F1.append(all_metrics[7])\n",
    "\n",
    "print(thresholds,recalls,precisions,F1)"
   ]
  },
  {
   "cell_type": "code",
   "execution_count": null,
   "metadata": {},
   "outputs": [],
   "source": []
  }
 ],
 "metadata": {
  "kernelspec": {
   "display_name": "Python 3.10.11 64-bit ('laser_new')",
   "language": "python",
   "name": "python3"
  },
  "language_info": {
   "codemirror_mode": {
    "name": "ipython",
    "version": 3
   },
   "file_extension": ".py",
   "mimetype": "text/x-python",
   "name": "python",
   "nbconvert_exporter": "python",
   "pygments_lexer": "ipython3",
   "version": "3.10.11"
  },
  "orig_nbformat": 4,
  "vscode": {
   "interpreter": {
    "hash": "8ffc2996ad6955d4a006a89ec6cb64267d9476b215f495a860055fcc8a3e6409"
   }
  }
 },
 "nbformat": 4,
 "nbformat_minor": 2
}
